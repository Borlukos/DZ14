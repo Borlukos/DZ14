{
  "nbformat": 4,
  "nbformat_minor": 0,
  "metadata": {
    "colab": {
      "provenance": []
    },
    "kernelspec": {
      "name": "python3",
      "display_name": "Python 3"
    },
    "language_info": {
      "name": "python"
    }
  },
  "cells": [
    {
      "cell_type": "code",
      "execution_count": 1,
      "metadata": {
        "colab": {
          "base_uri": "https://localhost:8080/"
        },
        "id": "ts4lOTfvvxJP",
        "outputId": "31115f1d-e227-496e-bd46-e49b35cd718d"
      },
      "outputs": [
        {
          "output_type": "stream",
          "name": "stdout",
          "text": [
            "Collecting dostoevsky\n",
            "  Downloading dostoevsky-0.6.0-py2.py3-none-any.whl.metadata (3.4 kB)\n",
            "Collecting fasttext==0.9.2 (from dostoevsky)\n",
            "  Downloading fasttext-0.9.2.tar.gz (68 kB)\n",
            "\u001b[?25l     \u001b[90m━━━━━━━━━━━━━━━━━━━━━━━━━━━━━━━━━━━━━━━━\u001b[0m \u001b[32m0.0/68.8 kB\u001b[0m \u001b[31m?\u001b[0m eta \u001b[36m-:--:--\u001b[0m\r\u001b[2K     \u001b[90m━━━━━━━━━━━━━━━━━━━━━━━━━━━━━━━━━━━━━━━━\u001b[0m \u001b[32m68.8/68.8 kB\u001b[0m \u001b[31m3.9 MB/s\u001b[0m eta \u001b[36m0:00:00\u001b[0m\n",
            "\u001b[?25h  Preparing metadata (setup.py) ... \u001b[?25l\u001b[?25hdone\n",
            "Collecting razdel==0.5.0 (from dostoevsky)\n",
            "  Downloading razdel-0.5.0-py3-none-any.whl.metadata (10.0 kB)\n",
            "Collecting pybind11>=2.2 (from fasttext==0.9.2->dostoevsky)\n",
            "  Using cached pybind11-2.13.6-py3-none-any.whl.metadata (9.5 kB)\n",
            "Requirement already satisfied: setuptools>=0.7.0 in /usr/local/lib/python3.10/dist-packages (from fasttext==0.9.2->dostoevsky) (75.1.0)\n",
            "Requirement already satisfied: numpy in /usr/local/lib/python3.10/dist-packages (from fasttext==0.9.2->dostoevsky) (1.26.4)\n",
            "Downloading dostoevsky-0.6.0-py2.py3-none-any.whl (8.5 kB)\n",
            "Downloading razdel-0.5.0-py3-none-any.whl (21 kB)\n",
            "Using cached pybind11-2.13.6-py3-none-any.whl (243 kB)\n",
            "Building wheels for collected packages: fasttext\n",
            "  Building wheel for fasttext (setup.py) ... \u001b[?25l\u001b[?25hdone\n",
            "  Created wheel for fasttext: filename=fasttext-0.9.2-cp310-cp310-linux_x86_64.whl size=4284414 sha256=444bdfaba04b18de7b45b4c61049164c09e5da95aa0e43304ef1ca6b1426ea11\n",
            "  Stored in directory: /root/.cache/pip/wheels/a5/13/75/f811c84a8ab36eedbaef977a6a58a98990e8e0f1967f98f394\n",
            "Successfully built fasttext\n",
            "Installing collected packages: razdel, pybind11, fasttext, dostoevsky\n",
            "Successfully installed dostoevsky-0.6.0 fasttext-0.9.2 pybind11-2.13.6 razdel-0.5.0\n"
          ]
        }
      ],
      "source": [
        "pip install dostoevsky"
      ]
    },
    {
      "cell_type": "code",
      "source": [
        "!python -m dostoevsky download fasttext-social-network-model"
      ],
      "metadata": {
        "id": "41TmJfsqv32J"
      },
      "execution_count": 2,
      "outputs": []
    },
    {
      "cell_type": "code",
      "source": [
        "from bs4 import BeautifulSoup\n",
        "import requests\n",
        "import pandas as pd"
      ],
      "metadata": {
        "id": "-UDpm4Sgwmbn"
      },
      "execution_count": 3,
      "outputs": []
    },
    {
      "cell_type": "code",
      "source": [
        "# Парсим одну страницу новостей"
      ],
      "metadata": {
        "id": "4UKA6T_AwoN-"
      },
      "execution_count": 4,
      "outputs": []
    },
    {
      "cell_type": "code",
      "source": [
        "# Делаем запрос к веб-странице"
      ],
      "metadata": {
        "id": "pJWlW2pSwsnY"
      },
      "execution_count": 5,
      "outputs": []
    },
    {
      "cell_type": "code",
      "source": [
        "url = \"https://lenta.ru/news/2024/11/21/rossiyane-rasskazali-o-nezhelanii-menyat-paroli-v-sotssetyah-iz-za-moshennikov/\""
      ],
      "metadata": {
        "id": "m47UCGVLwxEo"
      },
      "execution_count": 6,
      "outputs": []
    },
    {
      "cell_type": "code",
      "source": [
        "page = requests.get(url)"
      ],
      "metadata": {
        "id": "9bEk_UCCxoG0"
      },
      "execution_count": 7,
      "outputs": []
    },
    {
      "cell_type": "code",
      "source": [
        "print(page.status_code)"
      ],
      "metadata": {
        "colab": {
          "base_uri": "https://localhost:8080/"
        },
        "id": "zlqVXFFhxvPO",
        "outputId": "e55b9a6a-eb5b-436a-e6b8-23ae77c12a77"
      },
      "execution_count": 9,
      "outputs": [
        {
          "output_type": "stream",
          "name": "stdout",
          "text": [
            "200\n"
          ]
        }
      ]
    },
    {
      "cell_type": "code",
      "source": [
        "# получили положительный ответ (200)"
      ],
      "metadata": {
        "id": "GwPhYtOjxyaF"
      },
      "execution_count": 10,
      "outputs": []
    },
    {
      "cell_type": "code",
      "source": [
        "# Парсим сайт, сохраняем весь html код"
      ],
      "metadata": {
        "id": "3mXURIvtx7Ma"
      },
      "execution_count": 11,
      "outputs": []
    },
    {
      "cell_type": "code",
      "source": [
        "soup = BeautifulSoup(page.text, \"html.parser\")"
      ],
      "metadata": {
        "id": "QAbDfVS0x_-X"
      },
      "execution_count": 12,
      "outputs": []
    },
    {
      "cell_type": "code",
      "source": [
        "# Извлечем заголовок страницы"
      ],
      "metadata": {
        "id": "1o2AXZzbyCaU"
      },
      "execution_count": 13,
      "outputs": []
    },
    {
      "cell_type": "code",
      "source": [
        "soup.title"
      ],
      "metadata": {
        "colab": {
          "base_uri": "https://localhost:8080/"
        },
        "id": "UiP_Z0lYyHrM",
        "outputId": "18eacd2b-99ba-4550-c4be-befc28cbd54a"
      },
      "execution_count": 14,
      "outputs": [
        {
          "output_type": "execute_result",
          "data": {
            "text/plain": [
              "<title>Россияне рассказали о нежелании менять пароли в соцсетях из-за мошенников: Coцсети: Интернет и СМИ: Lenta.ru</title>"
            ]
          },
          "metadata": {},
          "execution_count": 14
        }
      ]
    },
    {
      "cell_type": "code",
      "source": [
        "# Извлечем отдельные элементы страницы"
      ],
      "metadata": {
        "id": "WxoOK1mNyKUS"
      },
      "execution_count": 15,
      "outputs": []
    },
    {
      "cell_type": "code",
      "source": [
        "soup.find_all(class_ = 'topic-body__content-text')"
      ],
      "metadata": {
        "colab": {
          "base_uri": "https://localhost:8080/"
        },
        "id": "Ss_kQQdPyRUB",
        "outputId": "f8c2ef87-abfb-4fdd-aca4-887d9d6201be"
      },
      "execution_count": 17,
      "outputs": [
        {
          "output_type": "execute_result",
          "data": {
            "text/plain": [
              "[<p class=\"topic-body__content-text\">Большинство россиян (40 процентов) никогда не меняло пароли с момента первоначальной настройки своего профиля. В соцсети «Одноклассники» (ОК) провели исследование, касающееся защиты личных данных, которое есть в распоряжении «Ленты.ру».</p>,\n",
              " <p class=\"topic-body__content-text\">Утверждается, что 40 процентов пользователей никогда не считали необходимым менять пароли. При этом 30 процентов заявили, что меняют коды только после уведомлений о том, что их данные найдены в утечках. «22 процента меняют пароль каждые 3-6 месяцев, и лишь 8 процентов делают это ежемесячно», — сказано в сообщении.</p>,\n",
              " <p class=\"topic-body__content-text\">В ОК также спросили о двухфакторной аутентификации. Оказалось, что 31 процент людей настраивает ее либо везде, либо для некоторых площадках. Наиболее распространены одноразовые SMS-коды (27 процентов) и звонки для сброса (5 процентов). В то же время каждый четвертый россиянин (24 процента) знает о данном методе защиты, но не применяет его.</p>,\n",
              " <p class=\"topic-body__content-text\">Почти половина опрошенных (43 процента) согласна с тем, что, не настраивая «двухфакторку», они делают свой профиль более уязвимым для мошенников и утечки данных. Тем не менее, как уточняется, сейчас 37 процентов россиян оценивают уровень безопасности своих профилей как «средний», а 14 процентов — как «высокий».</p>,\n",
              " <p class=\"topic-body__content-text\">В целом, как указали в ОК, при создании паролей пользователи учитывают такие критерии, как легкость запоминания (30 процентов), сложность пароля, включая цифры и символы (23 процента), а также использование паролей для каждого профиля (17 процентов). Сообщается, что более 35 процентов не знают о возможностях менеджеров паролей, а 26 процентов не видят необходимости в них. Только 8 процентов россиян заявили, что постоянно прибегают к инструменту подобного плана.</p>,\n",
              " <p class=\"topic-body__content-text\">Ранее россиянам <a href=\"https://lenta.ru/news/2024/11/19/rossiyan-predupredili-o-podozritelnyh-rassylkah-v-telegram/\" target=\"_blank\">рассказали</a> о подозрительных рассылках в Telegram — мошенники стали похищать личные данные в мессенджере и сами профили с помощью фишинговой ссылки, замаскированной под подарок с подпиской. Помимо этого, телефонные мошенники <a href=\"https://lenta.ru/news/2024/11/09/rossiyan-predupredili-o-novoy-sheme-moshennichestva/\" target=\"_blank\">начали звонить</a> россиянам от лица мессенджера WhatsApp.</p>]"
            ]
          },
          "metadata": {},
          "execution_count": 17
        }
      ]
    },
    {
      "cell_type": "code",
      "source": [
        "# Запускаем цикл, где из каждого блока выбиратся текст и объединяется в одну строку в случае, если тексте содержится в блоке topic-body__content-text"
      ],
      "metadata": {
        "id": "ybWW8Givy-0E"
      },
      "execution_count": 20,
      "outputs": []
    },
    {
      "cell_type": "code",
      "source": [
        "text = ''\n",
        "for block in soup.find_all(class_ = 'topic-body__content-text'):\n",
        "  if block.find('div', class_=\"topic-body__content-text\"):\n",
        "    pass\n",
        "  else:\n",
        "    text = ''.join([text, block.get_text()])"
      ],
      "metadata": {
        "id": "-KeRevbPz2ln"
      },
      "execution_count": 21,
      "outputs": []
    },
    {
      "cell_type": "code",
      "source": [
        "text"
      ],
      "metadata": {
        "colab": {
          "base_uri": "https://localhost:8080/",
          "height": 244
        },
        "id": "LtoebzTVz7-k",
        "outputId": "77b546c1-b7bd-4876-c7f3-68d60612ee03"
      },
      "execution_count": 22,
      "outputs": [
        {
          "output_type": "execute_result",
          "data": {
            "text/plain": [
              "'Большинство россиян (40 процентов) никогда не меняло пароли с момента первоначальной настройки своего профиля. В соцсети «Одноклассники» (ОК) провели исследование, касающееся защиты личных данных, которое есть в распоряжении «Ленты.ру».Утверждается, что 40 процентов пользователей никогда не считали необходимым менять пароли. При этом 30 процентов заявили, что меняют коды только после уведомлений о том, что их данные найдены в утечках. «22 процента меняют пароль каждые 3-6 месяцев, и лишь 8 процентов делают это ежемесячно», — сказано в сообщении.В ОК также спросили о двухфакторной аутентификации. Оказалось, что 31 процент людей настраивает ее либо везде, либо для некоторых площадках. Наиболее распространены одноразовые SMS-коды (27 процентов) и звонки для сброса (5 процентов). В то же время каждый четвертый россиянин (24 процента) знает о данном методе защиты, но не применяет его.Почти половина опрошенных (43 процента) согласна с тем, что, не настраивая «двухфакторку», они делают свой профиль более уязвимым для мошенников и утечки данных. Тем не менее, как уточняется, сейчас 37 процентов россиян оценивают уровень безопасности своих профилей как «средний», а 14 процентов — как «высокий».В целом, как указали в ОК, при создании паролей пользователи учитывают такие критерии, как легкость запоминания (30 процентов), сложность пароля, включая цифры и символы (23 процента), а также использование паролей для каждого профиля (17 процентов). Сообщается, что более 35 процентов не знают о возможностях менеджеров паролей, а 26 процентов не видят необходимости в них. Только 8 процентов россиян заявили, что постоянно прибегают к инструменту подобного плана.Ранее россиянам рассказали о подозрительных рассылках в Telegram — мошенники стали похищать личные данные в мессенджере и сами профили с помощью фишинговой ссылки, замаскированной под подарок с подпиской. Помимо этого, телефонные мошенники начали звонить россиянам от лица мессенджера WhatsApp.'"
            ],
            "application/vnd.google.colaboratory.intrinsic+json": {
              "type": "string"
            }
          },
          "metadata": {},
          "execution_count": 22
        }
      ]
    },
    {
      "cell_type": "code",
      "source": [
        "# Устанавливаем библиотеку NLTK и загружаем словарь стоп-слов (не имеющих смысла слов)"
      ],
      "metadata": {
        "id": "Y24KYs064B1m"
      },
      "execution_count": 23,
      "outputs": []
    },
    {
      "cell_type": "code",
      "source": [
        "pip install nltk"
      ],
      "metadata": {
        "colab": {
          "base_uri": "https://localhost:8080/"
        },
        "id": "hlo-QkKo4Iqy",
        "outputId": "ea4ada0c-fb4d-400e-9e83-54af2ab3be14"
      },
      "execution_count": 24,
      "outputs": [
        {
          "output_type": "stream",
          "name": "stdout",
          "text": [
            "Requirement already satisfied: nltk in /usr/local/lib/python3.10/dist-packages (3.9.1)\n",
            "Requirement already satisfied: click in /usr/local/lib/python3.10/dist-packages (from nltk) (8.1.7)\n",
            "Requirement already satisfied: joblib in /usr/local/lib/python3.10/dist-packages (from nltk) (1.4.2)\n",
            "Requirement already satisfied: regex>=2021.8.3 in /usr/local/lib/python3.10/dist-packages (from nltk) (2024.9.11)\n",
            "Requirement already satisfied: tqdm in /usr/local/lib/python3.10/dist-packages (from nltk) (4.66.6)\n"
          ]
        }
      ]
    },
    {
      "cell_type": "code",
      "source": [
        "import nltk\n",
        "nltk.download('stopwords')"
      ],
      "metadata": {
        "colab": {
          "base_uri": "https://localhost:8080/"
        },
        "id": "wcdqX6SS4Kqh",
        "outputId": "9eccb4d5-fcdb-4a74-db5b-1544c3379c02"
      },
      "execution_count": 25,
      "outputs": [
        {
          "output_type": "stream",
          "name": "stderr",
          "text": [
            "[nltk_data] Downloading package stopwords to /root/nltk_data...\n",
            "[nltk_data]   Unzipping corpora/stopwords.zip.\n"
          ]
        },
        {
          "output_type": "execute_result",
          "data": {
            "text/plain": [
              "True"
            ]
          },
          "metadata": {},
          "execution_count": 25
        }
      ]
    },
    {
      "cell_type": "code",
      "source": [
        "from nltk.corpus import stopwords\n",
        "stopwords_ru = stopwords.words(\"russian\")\n",
        "stopwords_ru[0:11]"
      ],
      "metadata": {
        "colab": {
          "base_uri": "https://localhost:8080/"
        },
        "id": "UFD5msSp4PAQ",
        "outputId": "911908df-a6a2-4bc9-8d28-7c663af1e212"
      },
      "execution_count": 26,
      "outputs": [
        {
          "output_type": "execute_result",
          "data": {
            "text/plain": [
              "['и', 'в', 'во', 'не', 'что', 'он', 'на', 'я', 'с', 'со', 'как']"
            ]
          },
          "metadata": {},
          "execution_count": 26
        }
      ]
    },
    {
      "cell_type": "code",
      "source": [
        "import re"
      ],
      "metadata": {
        "id": "--roCBJt4jkC"
      },
      "execution_count": 28,
      "outputs": []
    },
    {
      "cell_type": "code",
      "source": [
        "# разбираем текст по словам при помощи регулярных вырожений и чистим от стоп-слов\n",
        "words = [word.lower() for word in re.split(';|\\.| ', text) if word.lower() not in stopwords_ru]\n",
        "text = ' '.join(words)\n",
        "words"
      ],
      "metadata": {
        "colab": {
          "base_uri": "https://localhost:8080/"
        },
        "id": "j7lBu-Ss4Zw0",
        "outputId": "6a010079-d730-41ca-a1dc-66e77f36afe7"
      },
      "execution_count": 36,
      "outputs": [
        {
          "output_type": "execute_result",
          "data": {
            "text/plain": [
              "['большинство',\n",
              " 'россиян',\n",
              " '(40',\n",
              " 'процентов)',\n",
              " 'меняло',\n",
              " 'пароли',\n",
              " 'момента',\n",
              " 'первоначальной',\n",
              " 'настройки',\n",
              " 'своего',\n",
              " 'профиля',\n",
              " '',\n",
              " 'соцсети',\n",
              " '«одноклассники»',\n",
              " '(ок)',\n",
              " 'провели',\n",
              " 'исследование,',\n",
              " 'касающееся',\n",
              " 'защиты',\n",
              " 'личных',\n",
              " 'данных,',\n",
              " 'которое',\n",
              " 'распоряжении',\n",
              " '«ленты',\n",
              " 'ру»',\n",
              " 'утверждается,',\n",
              " '40',\n",
              " 'процентов',\n",
              " 'пользователей',\n",
              " 'считали',\n",
              " 'необходимым',\n",
              " 'менять',\n",
              " 'пароли',\n",
              " '',\n",
              " '30',\n",
              " 'процентов',\n",
              " 'заявили,',\n",
              " 'меняют',\n",
              " 'коды',\n",
              " 'уведомлений',\n",
              " 'том,',\n",
              " 'данные',\n",
              " 'найдены',\n",
              " 'утечках',\n",
              " '',\n",
              " '«22',\n",
              " 'процента',\n",
              " 'меняют',\n",
              " 'пароль',\n",
              " 'каждые',\n",
              " '3-6',\n",
              " 'месяцев,',\n",
              " 'лишь',\n",
              " '8',\n",
              " 'процентов',\n",
              " 'делают',\n",
              " 'это',\n",
              " 'ежемесячно»,',\n",
              " '—',\n",
              " 'сказано',\n",
              " 'сообщении',\n",
              " 'ок',\n",
              " 'также',\n",
              " 'спросили',\n",
              " 'двухфакторной',\n",
              " 'аутентификации',\n",
              " '',\n",
              " 'оказалось,',\n",
              " '31',\n",
              " 'процент',\n",
              " 'людей',\n",
              " 'настраивает',\n",
              " 'либо',\n",
              " 'везде,',\n",
              " 'либо',\n",
              " 'некоторых',\n",
              " 'площадках',\n",
              " '',\n",
              " 'наиболее',\n",
              " 'распространены',\n",
              " 'одноразовые',\n",
              " 'sms-коды',\n",
              " '(27',\n",
              " 'процентов)',\n",
              " 'звонки',\n",
              " 'сброса',\n",
              " '(5',\n",
              " 'процентов)',\n",
              " '',\n",
              " 'время',\n",
              " 'каждый',\n",
              " 'четвертый',\n",
              " 'россиянин',\n",
              " '(24',\n",
              " 'процента)',\n",
              " 'знает',\n",
              " 'данном',\n",
              " 'методе',\n",
              " 'защиты,',\n",
              " 'применяет',\n",
              " 'половина',\n",
              " 'опрошенных',\n",
              " '(43',\n",
              " 'процента)',\n",
              " 'согласна',\n",
              " 'тем,',\n",
              " 'что,',\n",
              " 'настраивая',\n",
              " '«двухфакторку»,',\n",
              " 'делают',\n",
              " 'свой',\n",
              " 'профиль',\n",
              " 'уязвимым',\n",
              " 'мошенников',\n",
              " 'утечки',\n",
              " 'данных',\n",
              " '',\n",
              " 'менее,',\n",
              " 'уточняется,',\n",
              " '37',\n",
              " 'процентов',\n",
              " 'россиян',\n",
              " 'оценивают',\n",
              " 'уровень',\n",
              " 'безопасности',\n",
              " 'своих',\n",
              " 'профилей',\n",
              " '«средний»,',\n",
              " '14',\n",
              " 'процентов',\n",
              " '—',\n",
              " '«высокий»',\n",
              " 'целом,',\n",
              " 'указали',\n",
              " 'ок,',\n",
              " 'создании',\n",
              " 'паролей',\n",
              " 'пользователи',\n",
              " 'учитывают',\n",
              " 'такие',\n",
              " 'критерии,',\n",
              " 'легкость',\n",
              " 'запоминания',\n",
              " '(30',\n",
              " 'процентов),',\n",
              " 'сложность',\n",
              " 'пароля,',\n",
              " 'включая',\n",
              " 'цифры',\n",
              " 'символы',\n",
              " '(23',\n",
              " 'процента),',\n",
              " 'также',\n",
              " 'использование',\n",
              " 'паролей',\n",
              " 'каждого',\n",
              " 'профиля',\n",
              " '(17',\n",
              " 'процентов)',\n",
              " '',\n",
              " 'сообщается,',\n",
              " '35',\n",
              " 'процентов',\n",
              " 'знают',\n",
              " 'возможностях',\n",
              " 'менеджеров',\n",
              " 'паролей,',\n",
              " '26',\n",
              " 'процентов',\n",
              " 'видят',\n",
              " 'необходимости',\n",
              " '',\n",
              " '8',\n",
              " 'процентов',\n",
              " 'россиян',\n",
              " 'заявили,',\n",
              " 'постоянно',\n",
              " 'прибегают',\n",
              " 'инструменту',\n",
              " 'подобного',\n",
              " 'плана',\n",
              " 'ранее',\n",
              " 'россиянам',\n",
              " 'рассказали',\n",
              " 'подозрительных',\n",
              " 'рассылках',\n",
              " 'telegram',\n",
              " '—',\n",
              " 'мошенники',\n",
              " 'стали',\n",
              " 'похищать',\n",
              " 'личные',\n",
              " 'данные',\n",
              " 'мессенджере',\n",
              " 'сами',\n",
              " 'профили',\n",
              " 'помощью',\n",
              " 'фишинговой',\n",
              " 'ссылки,',\n",
              " 'замаскированной',\n",
              " 'подарок',\n",
              " 'подпиской',\n",
              " '',\n",
              " 'помимо',\n",
              " 'этого,',\n",
              " 'телефонные',\n",
              " 'мошенники',\n",
              " 'начали',\n",
              " 'звонить',\n",
              " 'россиянам',\n",
              " 'лица',\n",
              " 'мессенджера',\n",
              " 'whatsapp',\n",
              " '']"
            ]
          },
          "metadata": {},
          "execution_count": 36
        }
      ]
    },
    {
      "cell_type": "code",
      "source": [
        "#Оценить тональность новости с помощью библиотеки dostoevsky"
      ],
      "metadata": {
        "id": "PPm9JWoA5WzY"
      },
      "execution_count": 37,
      "outputs": []
    },
    {
      "cell_type": "code",
      "source": [
        "from dostoevsky.tokenization import RegexTokenizer\n",
        "from dostoevsky.models import FastTextSocialNetworkModel\n",
        "\n",
        "tokenizer = RegexTokenizer()\n",
        "model = FastTextSocialNetworkModel(tokenizer=tokenizer)\n",
        "data = model.predict([text])"
      ],
      "metadata": {
        "colab": {
          "base_uri": "https://localhost:8080/"
        },
        "id": "1jr78qN86XpW",
        "outputId": "56e46f9c-8709-4a70-dbbc-d1c2ec3b81e0"
      },
      "execution_count": 38,
      "outputs": [
        {
          "output_type": "stream",
          "name": "stderr",
          "text": [
            "Warning : `load_model` does not return WordVectorModel or SupervisedModel any more, but a `FastText` object which is very similar.\n"
          ]
        }
      ]
    },
    {
      "cell_type": "code",
      "source": [
        "data"
      ],
      "metadata": {
        "colab": {
          "base_uri": "https://localhost:8080/"
        },
        "id": "g5enLkb37Ojp",
        "outputId": "f14bc5dd-ec7a-47b4-d370-66e33ff14644"
      },
      "execution_count": 39,
      "outputs": [
        {
          "output_type": "execute_result",
          "data": {
            "text/plain": [
              "[{'neutral': 0.754925012588501,\n",
              "  'negative': 0.09010298550128937,\n",
              "  'skip': 0.08757384121417999,\n",
              "  'positive': 0.06561483442783356,\n",
              "  'speech': 0.008325778879225254}]"
            ]
          },
          "metadata": {},
          "execution_count": 39
        }
      ]
    },
    {
      "cell_type": "code",
      "source": [
        "# Нейтральная тональность текста"
      ],
      "metadata": {
        "id": "FZeeFxNA9GbX"
      },
      "execution_count": 40,
      "outputs": []
    },
    {
      "cell_type": "code",
      "source": [],
      "metadata": {
        "id": "LRs1f2kd-DCI"
      },
      "execution_count": null,
      "outputs": []
    }
  ]
}